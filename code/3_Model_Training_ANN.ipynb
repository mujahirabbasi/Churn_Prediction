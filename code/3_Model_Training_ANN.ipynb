{
  "cells": [
    {
      "cell_type": "markdown",
      "metadata": {
        "id": "FGjY5KFAc8-x"
      },
      "source": [
        "<h3 style='color:blue' align='center'>Customer Churn Prediction Using Artificial Neural Network (ANN)</h3>"
      ]
    },
    {
      "cell_type": "markdown",
      "metadata": {
        "id": "wYUY1F6qc8-1"
      },
      "source": [
        "Customer churn prediction is to measure why customers are leaving a business. In this tutorial we will be looking at customer churn in telecom business. We will build a deep learning model to predict the churn and use precision,recall, f1-score to measure performance of our model"
      ]
    },
    {
      "cell_type": "code",
      "source": [
        "from google.colab import drive\n",
        "drive.mount('/content/drive')"
      ],
      "metadata": {
        "colab": {
          "base_uri": "https://localhost:8080/"
        },
        "id": "NVys6RAze8JN",
        "outputId": "7552f1b7-9719-40dc-aa55-f3e2e870509d"
      },
      "execution_count": 249,
      "outputs": [
        {
          "output_type": "stream",
          "name": "stdout",
          "text": [
            "Drive already mounted at /content/drive; to attempt to forcibly remount, call drive.mount(\"/content/drive\", force_remount=True).\n"
          ]
        }
      ]
    },
    {
      "cell_type": "code",
      "source": [
        "cd '/content/drive/MyDrive/Churn_ Prediction/'"
      ],
      "metadata": {
        "colab": {
          "base_uri": "https://localhost:8080/"
        },
        "id": "5ruvW--ar4W3",
        "outputId": "f4e0fbb7-9864-4f2e-ec3a-25f945cf1061"
      },
      "execution_count": 250,
      "outputs": [
        {
          "output_type": "stream",
          "name": "stdout",
          "text": [
            "/content/drive/MyDrive/Churn_ Prediction\n"
          ]
        }
      ]
    },
    {
      "cell_type": "code",
      "source": [
        "pip install fast-ml"
      ],
      "metadata": {
        "colab": {
          "base_uri": "https://localhost:8080/"
        },
        "id": "3rIAKKKVqjGY",
        "outputId": "6253e70e-4537-46c2-fe85-c35e60402bf9"
      },
      "execution_count": 251,
      "outputs": [
        {
          "output_type": "stream",
          "name": "stdout",
          "text": [
            "Looking in indexes: https://pypi.org/simple, https://us-python.pkg.dev/colab-wheels/public/simple/\n",
            "Requirement already satisfied: fast-ml in /usr/local/lib/python3.10/dist-packages (3.68)\n"
          ]
        }
      ]
    },
    {
      "cell_type": "code",
      "execution_count": 252,
      "metadata": {
        "id": "c4I_3RVUc8-1"
      },
      "outputs": [],
      "source": [
        "import pandas as pd\n",
        "from matplotlib import pyplot as plt\n",
        "import numpy as np\n",
        "import seaborn as sns\n",
        "from fast_ml.model_development import train_valid_test_split\n",
        "%matplotlib inline"
      ]
    },
    {
      "cell_type": "markdown",
      "metadata": {
        "id": "_rEWwySKc8-3"
      },
      "source": [
        "**Load the data**"
      ]
    },
    {
      "cell_type": "code",
      "execution_count": 253,
      "metadata": {
        "scrolled": true,
        "colab": {
          "base_uri": "https://localhost:8080/",
          "height": 287
        },
        "id": "KpQJWCasc8-3",
        "outputId": "65ac4ad4-8161-4d35-bc24-46a1dff9ef2f"
      },
      "outputs": [
        {
          "output_type": "execute_result",
          "data": {
            "text/plain": [
              "      CustomerID  Churn  Tenure PreferredLoginDevice  CityTier  \\\n",
              "302        50303      0    30.0             Computer         3   \n",
              "2526       52527      0    22.0         Mobile Phone         1   \n",
              "2433       52434      0    15.0                Phone         1   \n",
              "945        50946      0     1.0             Computer         3   \n",
              "1989       51990      0     4.0                Phone         1   \n",
              "\n",
              "      WarehouseToHome PreferredPaymentMode  Gender  HourSpendOnApp  \\\n",
              "302              34.0             E wallet  Female             3.0   \n",
              "2526             12.0           Debit Card  Female             2.0   \n",
              "2433              8.0          Credit Card    Male             3.0   \n",
              "945              13.0           Debit Card    Male             2.0   \n",
              "1989              NaN           Debit Card    Male             2.0   \n",
              "\n",
              "      NumberOfDeviceRegistered    PreferedOrderCat  SatisfactionScore  \\\n",
              "302                          4             Fashion                  5   \n",
              "2526                         4             Grocery                  3   \n",
              "2433                         4        Mobile Phone                  4   \n",
              "945                          3  Laptop & Accessory                  5   \n",
              "1989                         3              Mobile                  1   \n",
              "\n",
              "     MaritalStatus  NumberOfAddress  Complain  OrderAmountHikeFromlastYear  \\\n",
              "302       Divorced                5         0                         19.0   \n",
              "2526       Married                3         1                         19.0   \n",
              "2433       Married                5         0                         14.0   \n",
              "945         Single                1         0                         14.0   \n",
              "1989       Married                4         1                         19.0   \n",
              "\n",
              "      CouponUsed  OrderCount  DaySinceLastOrder  CashbackAmount  \n",
              "302         13.0        13.0               11.0          202.66  \n",
              "2526         2.0         NaN               12.0          239.66  \n",
              "2433         0.0         1.0                0.0          148.41  \n",
              "945          1.0         1.0                3.0          148.98  \n",
              "1989         0.0         1.0                2.0          123.56  "
            ],
            "text/html": [
              "\n",
              "  <div id=\"df-de331d4e-80a2-4af2-86b4-8c0626a19177\">\n",
              "    <div class=\"colab-df-container\">\n",
              "      <div>\n",
              "<style scoped>\n",
              "    .dataframe tbody tr th:only-of-type {\n",
              "        vertical-align: middle;\n",
              "    }\n",
              "\n",
              "    .dataframe tbody tr th {\n",
              "        vertical-align: top;\n",
              "    }\n",
              "\n",
              "    .dataframe thead th {\n",
              "        text-align: right;\n",
              "    }\n",
              "</style>\n",
              "<table border=\"1\" class=\"dataframe\">\n",
              "  <thead>\n",
              "    <tr style=\"text-align: right;\">\n",
              "      <th></th>\n",
              "      <th>CustomerID</th>\n",
              "      <th>Churn</th>\n",
              "      <th>Tenure</th>\n",
              "      <th>PreferredLoginDevice</th>\n",
              "      <th>CityTier</th>\n",
              "      <th>WarehouseToHome</th>\n",
              "      <th>PreferredPaymentMode</th>\n",
              "      <th>Gender</th>\n",
              "      <th>HourSpendOnApp</th>\n",
              "      <th>NumberOfDeviceRegistered</th>\n",
              "      <th>PreferedOrderCat</th>\n",
              "      <th>SatisfactionScore</th>\n",
              "      <th>MaritalStatus</th>\n",
              "      <th>NumberOfAddress</th>\n",
              "      <th>Complain</th>\n",
              "      <th>OrderAmountHikeFromlastYear</th>\n",
              "      <th>CouponUsed</th>\n",
              "      <th>OrderCount</th>\n",
              "      <th>DaySinceLastOrder</th>\n",
              "      <th>CashbackAmount</th>\n",
              "    </tr>\n",
              "  </thead>\n",
              "  <tbody>\n",
              "    <tr>\n",
              "      <th>302</th>\n",
              "      <td>50303</td>\n",
              "      <td>0</td>\n",
              "      <td>30.0</td>\n",
              "      <td>Computer</td>\n",
              "      <td>3</td>\n",
              "      <td>34.0</td>\n",
              "      <td>E wallet</td>\n",
              "      <td>Female</td>\n",
              "      <td>3.0</td>\n",
              "      <td>4</td>\n",
              "      <td>Fashion</td>\n",
              "      <td>5</td>\n",
              "      <td>Divorced</td>\n",
              "      <td>5</td>\n",
              "      <td>0</td>\n",
              "      <td>19.0</td>\n",
              "      <td>13.0</td>\n",
              "      <td>13.0</td>\n",
              "      <td>11.0</td>\n",
              "      <td>202.66</td>\n",
              "    </tr>\n",
              "    <tr>\n",
              "      <th>2526</th>\n",
              "      <td>52527</td>\n",
              "      <td>0</td>\n",
              "      <td>22.0</td>\n",
              "      <td>Mobile Phone</td>\n",
              "      <td>1</td>\n",
              "      <td>12.0</td>\n",
              "      <td>Debit Card</td>\n",
              "      <td>Female</td>\n",
              "      <td>2.0</td>\n",
              "      <td>4</td>\n",
              "      <td>Grocery</td>\n",
              "      <td>3</td>\n",
              "      <td>Married</td>\n",
              "      <td>3</td>\n",
              "      <td>1</td>\n",
              "      <td>19.0</td>\n",
              "      <td>2.0</td>\n",
              "      <td>NaN</td>\n",
              "      <td>12.0</td>\n",
              "      <td>239.66</td>\n",
              "    </tr>\n",
              "    <tr>\n",
              "      <th>2433</th>\n",
              "      <td>52434</td>\n",
              "      <td>0</td>\n",
              "      <td>15.0</td>\n",
              "      <td>Phone</td>\n",
              "      <td>1</td>\n",
              "      <td>8.0</td>\n",
              "      <td>Credit Card</td>\n",
              "      <td>Male</td>\n",
              "      <td>3.0</td>\n",
              "      <td>4</td>\n",
              "      <td>Mobile Phone</td>\n",
              "      <td>4</td>\n",
              "      <td>Married</td>\n",
              "      <td>5</td>\n",
              "      <td>0</td>\n",
              "      <td>14.0</td>\n",
              "      <td>0.0</td>\n",
              "      <td>1.0</td>\n",
              "      <td>0.0</td>\n",
              "      <td>148.41</td>\n",
              "    </tr>\n",
              "    <tr>\n",
              "      <th>945</th>\n",
              "      <td>50946</td>\n",
              "      <td>0</td>\n",
              "      <td>1.0</td>\n",
              "      <td>Computer</td>\n",
              "      <td>3</td>\n",
              "      <td>13.0</td>\n",
              "      <td>Debit Card</td>\n",
              "      <td>Male</td>\n",
              "      <td>2.0</td>\n",
              "      <td>3</td>\n",
              "      <td>Laptop &amp; Accessory</td>\n",
              "      <td>5</td>\n",
              "      <td>Single</td>\n",
              "      <td>1</td>\n",
              "      <td>0</td>\n",
              "      <td>14.0</td>\n",
              "      <td>1.0</td>\n",
              "      <td>1.0</td>\n",
              "      <td>3.0</td>\n",
              "      <td>148.98</td>\n",
              "    </tr>\n",
              "    <tr>\n",
              "      <th>1989</th>\n",
              "      <td>51990</td>\n",
              "      <td>0</td>\n",
              "      <td>4.0</td>\n",
              "      <td>Phone</td>\n",
              "      <td>1</td>\n",
              "      <td>NaN</td>\n",
              "      <td>Debit Card</td>\n",
              "      <td>Male</td>\n",
              "      <td>2.0</td>\n",
              "      <td>3</td>\n",
              "      <td>Mobile</td>\n",
              "      <td>1</td>\n",
              "      <td>Married</td>\n",
              "      <td>4</td>\n",
              "      <td>1</td>\n",
              "      <td>19.0</td>\n",
              "      <td>0.0</td>\n",
              "      <td>1.0</td>\n",
              "      <td>2.0</td>\n",
              "      <td>123.56</td>\n",
              "    </tr>\n",
              "  </tbody>\n",
              "</table>\n",
              "</div>\n",
              "      <button class=\"colab-df-convert\" onclick=\"convertToInteractive('df-de331d4e-80a2-4af2-86b4-8c0626a19177')\"\n",
              "              title=\"Convert this dataframe to an interactive table.\"\n",
              "              style=\"display:none;\">\n",
              "        \n",
              "  <svg xmlns=\"http://www.w3.org/2000/svg\" height=\"24px\"viewBox=\"0 0 24 24\"\n",
              "       width=\"24px\">\n",
              "    <path d=\"M0 0h24v24H0V0z\" fill=\"none\"/>\n",
              "    <path d=\"M18.56 5.44l.94 2.06.94-2.06 2.06-.94-2.06-.94-.94-2.06-.94 2.06-2.06.94zm-11 1L8.5 8.5l.94-2.06 2.06-.94-2.06-.94L8.5 2.5l-.94 2.06-2.06.94zm10 10l.94 2.06.94-2.06 2.06-.94-2.06-.94-.94-2.06-.94 2.06-2.06.94z\"/><path d=\"M17.41 7.96l-1.37-1.37c-.4-.4-.92-.59-1.43-.59-.52 0-1.04.2-1.43.59L10.3 9.45l-7.72 7.72c-.78.78-.78 2.05 0 2.83L4 21.41c.39.39.9.59 1.41.59.51 0 1.02-.2 1.41-.59l7.78-7.78 2.81-2.81c.8-.78.8-2.07 0-2.86zM5.41 20L4 18.59l7.72-7.72 1.47 1.35L5.41 20z\"/>\n",
              "  </svg>\n",
              "      </button>\n",
              "      \n",
              "  <style>\n",
              "    .colab-df-container {\n",
              "      display:flex;\n",
              "      flex-wrap:wrap;\n",
              "      gap: 12px;\n",
              "    }\n",
              "\n",
              "    .colab-df-convert {\n",
              "      background-color: #E8F0FE;\n",
              "      border: none;\n",
              "      border-radius: 50%;\n",
              "      cursor: pointer;\n",
              "      display: none;\n",
              "      fill: #1967D2;\n",
              "      height: 32px;\n",
              "      padding: 0 0 0 0;\n",
              "      width: 32px;\n",
              "    }\n",
              "\n",
              "    .colab-df-convert:hover {\n",
              "      background-color: #E2EBFA;\n",
              "      box-shadow: 0px 1px 2px rgba(60, 64, 67, 0.3), 0px 1px 3px 1px rgba(60, 64, 67, 0.15);\n",
              "      fill: #174EA6;\n",
              "    }\n",
              "\n",
              "    [theme=dark] .colab-df-convert {\n",
              "      background-color: #3B4455;\n",
              "      fill: #D2E3FC;\n",
              "    }\n",
              "\n",
              "    [theme=dark] .colab-df-convert:hover {\n",
              "      background-color: #434B5C;\n",
              "      box-shadow: 0px 1px 3px 1px rgba(0, 0, 0, 0.15);\n",
              "      filter: drop-shadow(0px 1px 2px rgba(0, 0, 0, 0.3));\n",
              "      fill: #FFFFFF;\n",
              "    }\n",
              "  </style>\n",
              "\n",
              "      <script>\n",
              "        const buttonEl =\n",
              "          document.querySelector('#df-de331d4e-80a2-4af2-86b4-8c0626a19177 button.colab-df-convert');\n",
              "        buttonEl.style.display =\n",
              "          google.colab.kernel.accessAllowed ? 'block' : 'none';\n",
              "\n",
              "        async function convertToInteractive(key) {\n",
              "          const element = document.querySelector('#df-de331d4e-80a2-4af2-86b4-8c0626a19177');\n",
              "          const dataTable =\n",
              "            await google.colab.kernel.invokeFunction('convertToInteractive',\n",
              "                                                     [key], {});\n",
              "          if (!dataTable) return;\n",
              "\n",
              "          const docLinkHtml = 'Like what you see? Visit the ' +\n",
              "            '<a target=\"_blank\" href=https://colab.research.google.com/notebooks/data_table.ipynb>data table notebook</a>'\n",
              "            + ' to learn more about interactive tables.';\n",
              "          element.innerHTML = '';\n",
              "          dataTable['output_type'] = 'display_data';\n",
              "          await google.colab.output.renderOutput(dataTable, element);\n",
              "          const docLink = document.createElement('div');\n",
              "          docLink.innerHTML = docLinkHtml;\n",
              "          element.appendChild(docLink);\n",
              "        }\n",
              "      </script>\n",
              "    </div>\n",
              "  </div>\n",
              "  "
            ]
          },
          "metadata": {},
          "execution_count": 253
        }
      ],
      "source": [
        "df = pd.read_excel('datasets/E_Commerce_Dataset.xlsx',sheet_name ='E_Comm')\n",
        "df.sample(5)"
      ]
    },
    {
      "cell_type": "code",
      "source": [
        "category_count = df['Churn'].value_counts()\n",
        "categories = category_count.index"
      ],
      "metadata": {
        "id": "dUqG5dLL0bz4"
      },
      "execution_count": 254,
      "outputs": []
    },
    {
      "cell_type": "code",
      "source": [
        "\n",
        "fig = plt.figure(figsize= (12, 5))\n",
        "\n",
        "ax = fig.add_subplot(111)\n",
        "\n",
        "sns.barplot(x = category_count.index, y = category_count )\n",
        "\n",
        "for a, p in enumerate(ax.patches):\n",
        "    ax.annotate(f'{categories[a]}\\n' + format(p.get_height(), '.0f'), xy = (p.get_x() + p.get_width() / 2.0, p.get_height()), xytext = (0,-25), size = 13, color = 'white' , ha = 'center', va = 'center', textcoords = 'offset points', bbox = dict(boxstyle = 'round', facecolor='none',edgecolor='white', alpha = 0.5) )\n",
        "    \n",
        "plt.xlabel('Categories', size = 15)\n",
        "\n",
        "plt.ylabel('The Number of Data', size= 15)\n",
        "\n",
        "plt.xticks(size = 12)\n",
        "\n",
        "plt.title(\"The number of data by Categories\" , size = 18)\n",
        "\n",
        "plt.show()"
      ],
      "metadata": {
        "colab": {
          "base_uri": "https://localhost:8080/",
          "height": 502
        },
        "id": "s6pHlBPi0WNr",
        "outputId": "3b6c16ee-41cd-42cf-d8d5-5c3fe53f4de5"
      },
      "execution_count": 255,
      "outputs": [
        {
          "output_type": "display_data",
          "data": {
            "text/plain": [
              "<Figure size 1200x500 with 1 Axes>"
            ],
            "image/png": "[encoded data removed]"
          },
          "metadata": {}
        }
      ]
    },
    {
      "cell_type": "markdown",
      "metadata": {
        "id": "uyZkpcVyc8-4"
      },
      "source": [
        "**First of all, drop customerID column as it is of no use**"
      ]
    },
    {
      "cell_type": "code",
      "execution_count": 256,
      "metadata": {
        "scrolled": false,
        "colab": {
          "base_uri": "https://localhost:8080/"
        },
        "id": "oLPKu8Vrc8-5",
        "outputId": "73c6439f-f6b6-4b9a-e3c6-d28b797870c9"
      },
      "outputs": [
        {
          "output_type": "execute_result",
          "data": {
            "text/plain": [
              "CustomerID                       int64\n",
              "Churn                            int64\n",
              "Tenure                         float64\n",
              "PreferredLoginDevice            object\n",
              "CityTier                         int64\n",
              "WarehouseToHome                float64\n",
              "PreferredPaymentMode            object\n",
              "Gender                          object\n",
              "HourSpendOnApp                 float64\n",
              "NumberOfDeviceRegistered         int64\n",
              "PreferedOrderCat                object\n",
              "SatisfactionScore                int64\n",
              "MaritalStatus                   object\n",
              "NumberOfAddress                  int64\n",
              "Complain                         int64\n",
              "OrderAmountHikeFromlastYear    float64\n",
              "CouponUsed                     float64\n",
              "OrderCount                     float64\n",
              "DaySinceLastOrder              float64\n",
              "CashbackAmount                 float64\n",
              "dtype: object"
            ]
          },
          "metadata": {},
          "execution_count": 256
        }
      ],
      "source": [
        "df.dtypes"
      ]
    },
    {
      "cell_type": "markdown",
      "metadata": {
        "id": "0fOJ9wIDc8-5"
      },
      "source": [
        "**Quick glance at above makes me realize that TotalCharges should be float but it is an object. Let's check what's going on with  this column**"
      ]
    },
    {
      "cell_type": "code",
      "execution_count": 257,
      "metadata": {
        "id": "CebL-Vbbc8-6"
      },
      "outputs": [],
      "source": [
        "# df.TotalCharges.values"
      ]
    },
    {
      "cell_type": "markdown",
      "metadata": {
        "id": "gF4wRTmUc8-6"
      },
      "source": [
        "**Ahh... it is string. Lets convert it to numbers**"
      ]
    },
    {
      "cell_type": "markdown",
      "metadata": {
        "id": "FGuc9E22c8_I"
      },
      "source": [
        "**Data Visualization**"
      ]
    },
    {
      "cell_type": "markdown",
      "metadata": {
        "id": "ybwJCSTec8_K"
      },
      "source": [
        "**Many of the columns are yes, no etc. Let's print unique values in object columns to see data values**"
      ]
    },
    {
      "cell_type": "code",
      "execution_count": 258,
      "metadata": {
        "id": "pyMiM1vNc8_K"
      },
      "outputs": [],
      "source": [
        "def print_unique_col_values(df):\n",
        "       for column in df:\n",
        "            if df[column].dtypes=='object':\n",
        "                print(f'{column}: {df[column].unique()}') "
      ]
    },
    {
      "cell_type": "code",
      "execution_count": 259,
      "metadata": {
        "scrolled": true,
        "colab": {
          "base_uri": "https://localhost:8080/"
        },
        "id": "Ek_s1pgBc8_K",
        "outputId": "bc3f9b1b-41d4-48b9-e889-b60c738fdf1f"
      },
      "outputs": [
        {
          "output_type": "stream",
          "name": "stdout",
          "text": [
            "PreferredLoginDevice: ['Mobile Phone' 'Phone' 'Computer']\n",
            "PreferredPaymentMode: ['Debit Card' 'UPI' 'CC' 'Cash on Delivery' 'E wallet' 'COD' 'Credit Card']\n",
            "Gender: ['Female' 'Male']\n",
            "PreferedOrderCat: ['Laptop & Accessory' 'Mobile' 'Mobile Phone' 'Others' 'Fashion' 'Grocery']\n",
            "MaritalStatus: ['Single' 'Divorced' 'Married']\n"
          ]
        }
      ],
      "source": [
        "print_unique_col_values(df)"
      ]
    },
    {
      "cell_type": "markdown",
      "metadata": {
        "id": "DOyYiPFrc8_L"
      },
      "source": [
        "**Some of the columns have no internet service or no phone service, that can be replaced with a simple No**"
      ]
    },
    {
      "cell_type": "markdown",
      "metadata": {
        "id": "TnbrArR1c8_M"
      },
      "source": [
        "**Convert Yes and No to 1 or 0**"
      ]
    },
    {
      "cell_type": "code",
      "execution_count": 260,
      "metadata": {
        "id": "PkORUxiRc8_M"
      },
      "outputs": [],
      "source": [
        "df['Gender'].replace({'Male': 1,'Female': 0},inplace=True)"
      ]
    },
    {
      "cell_type": "markdown",
      "metadata": {
        "id": "BUiFHylIc8_N"
      },
      "source": [
        "**One hot encoding for categorical columns**"
      ]
    },
    {
      "cell_type": "code",
      "execution_count": 261,
      "metadata": {
        "colab": {
          "base_uri": "https://localhost:8080/"
        },
        "id": "L1SkTyn6c8_X",
        "outputId": "8bd32fff-b843-4138-cc0c-22aae655ffee"
      },
      "outputs": [
        {
          "output_type": "execute_result",
          "data": {
            "text/plain": [
              "Index(['CustomerID', 'Churn', 'Tenure', 'CityTier', 'WarehouseToHome',\n",
              "       'Gender', 'HourSpendOnApp', 'NumberOfDeviceRegistered',\n",
              "       'SatisfactionScore', 'NumberOfAddress', 'Complain',\n",
              "       'OrderAmountHikeFromlastYear', 'CouponUsed', 'OrderCount',\n",
              "       'DaySinceLastOrder', 'CashbackAmount', 'PreferredLoginDevice_Computer',\n",
              "       'PreferredLoginDevice_Mobile Phone', 'PreferredLoginDevice_Phone',\n",
              "       'PreferredPaymentMode_CC', 'PreferredPaymentMode_COD',\n",
              "       'PreferredPaymentMode_Cash on Delivery',\n",
              "       'PreferredPaymentMode_Credit Card', 'PreferredPaymentMode_Debit Card',\n",
              "       'PreferredPaymentMode_E wallet', 'PreferredPaymentMode_UPI',\n",
              "       'PreferedOrderCat_Fashion', 'PreferedOrderCat_Grocery',\n",
              "       'PreferedOrderCat_Laptop & Accessory', 'PreferedOrderCat_Mobile',\n",
              "       'PreferedOrderCat_Mobile Phone', 'PreferedOrderCat_Others',\n",
              "       'MaritalStatus_Divorced', 'MaritalStatus_Married',\n",
              "       'MaritalStatus_Single'],\n",
              "      dtype='object')"
            ]
          },
          "metadata": {},
          "execution_count": 261
        }
      ],
      "source": [
        "df = pd.get_dummies(df)\n",
        "df.columns"
      ]
    },
    {
      "cell_type": "code",
      "execution_count": 262,
      "metadata": {
        "colab": {
          "base_uri": "https://localhost:8080/",
          "height": 316
        },
        "id": "Q1ed2UYFc8_X",
        "outputId": "83a3cf37-3ede-4d19-9254-ad727c5b25e2"
      },
      "outputs": [
        {
          "output_type": "execute_result",
          "data": {
            "text/plain": [
              "      CustomerID  Churn  Tenure  CityTier  WarehouseToHome  Gender  \\\n",
              "3453       53454      0     8.0         3             17.0       0   \n",
              "5103       55104      0    20.0         2              8.0       0   \n",
              "2818       52819      1     1.0         3             16.0       1   \n",
              "1269       51270      0     5.0         1             11.0       1   \n",
              "2745       52746      0    11.0         2              7.0       1   \n",
              "\n",
              "      HourSpendOnApp  NumberOfDeviceRegistered  SatisfactionScore  \\\n",
              "3453             3.0                         4                  3   \n",
              "5103             3.0                         4                  5   \n",
              "2818             3.0                         5                  5   \n",
              "1269             2.0                         4                  1   \n",
              "2745             NaN                         3                  4   \n",
              "\n",
              "      NumberOfAddress  ...  PreferredPaymentMode_UPI  \\\n",
              "3453                3  ...                         0   \n",
              "5103                8  ...                         0   \n",
              "2818                9  ...                         0   \n",
              "1269                9  ...                         0   \n",
              "2745                1  ...                         1   \n",
              "\n",
              "      PreferedOrderCat_Fashion  PreferedOrderCat_Grocery  \\\n",
              "3453                         0                         0   \n",
              "5103                         0                         0   \n",
              "2818                         0                         0   \n",
              "1269                         0                         0   \n",
              "2745                         0                         0   \n",
              "\n",
              "      PreferedOrderCat_Laptop & Accessory  PreferedOrderCat_Mobile  \\\n",
              "3453                                    0                        0   \n",
              "5103                                    0                        0   \n",
              "2818                                    1                        0   \n",
              "1269                                    1                        0   \n",
              "2745                                    0                        1   \n",
              "\n",
              "      PreferedOrderCat_Mobile Phone  PreferedOrderCat_Others  \\\n",
              "3453                              1                        0   \n",
              "5103                              1                        0   \n",
              "2818                              0                        0   \n",
              "1269                              0                        0   \n",
              "2745                              0                        0   \n",
              "\n",
              "      MaritalStatus_Divorced  MaritalStatus_Married  MaritalStatus_Single  \n",
              "3453                       1                      0                     0  \n",
              "5103                       0                      0                     1  \n",
              "2818                       0                      0                     1  \n",
              "1269                       0                      0                     1  \n",
              "2745                       0                      1                     0  \n",
              "\n",
              "[5 rows x 35 columns]"
            ],
            "text/html": [
              "\n",
              "  <div id=\"df-f224cdcc-6d4a-4e2a-8aa9-bd8fdf4d84dd\">\n",
              "    <div class=\"colab-df-container\">\n",
              "      <div>\n",
              "<style scoped>\n",
              "    .dataframe tbody tr th:only-of-type {\n",
              "        vertical-align: middle;\n",
              "    }\n",
              "\n",
              "    .dataframe tbody tr th {\n",
              "        vertical-align: top;\n",
              "    }\n",
              "\n",
              "    .dataframe thead th {\n",
              "        text-align: right;\n",
              "    }\n",
              "</style>\n",
              "<table border=\"1\" class=\"dataframe\">\n",
              "  <thead>\n",
              "    <tr style=\"text-align: right;\">\n",
              "      <th></th>\n",
              "      <th>CustomerID</th>\n",
              "      <th>Churn</th>\n",
              "      <th>Tenure</th>\n",
              "      <th>CityTier</th>\n",
              "      <th>WarehouseToHome</th>\n",
              "      <th>Gender</th>\n",
              "      <th>HourSpendOnApp</th>\n",
              "      <th>NumberOfDeviceRegistered</th>\n",
              "      <th>SatisfactionScore</th>\n",
              "      <th>NumberOfAddress</th>\n",
              "      <th>...</th>\n",
              "      <th>PreferredPaymentMode_UPI</th>\n",
              "      <th>PreferedOrderCat_Fashion</th>\n",
              "      <th>PreferedOrderCat_Grocery</th>\n",
              "      <th>PreferedOrderCat_Laptop &amp; Accessory</th>\n",
              "      <th>PreferedOrderCat_Mobile</th>\n",
              "      <th>PreferedOrderCat_Mobile Phone</th>\n",
              "      <th>PreferedOrderCat_Others</th>\n",
              "      <th>MaritalStatus_Divorced</th>\n",
              "      <th>MaritalStatus_Married</th>\n",
              "      <th>MaritalStatus_Single</th>\n",
              "    </tr>\n",
              "  </thead>\n",
              "  <tbody>\n",
              "    <tr>\n",
              "      <th>3453</th>\n",
              "      <td>53454</td>\n",
              "      <td>0</td>\n",
              "      <td>8.0</td>\n",
              "      <td>3</td>\n",
              "      <td>17.0</td>\n",
              "      <td>0</td>\n",
              "      <td>3.0</td>\n",
              "      <td>4</td>\n",
              "      <td>3</td>\n",
              "      <td>3</td>\n",
              "      <td>...</td>\n",
              "      <td>0</td>\n",
              "      <td>0</td>\n",
              "      <td>0</td>\n",
              "      <td>0</td>\n",
              "      <td>0</td>\n",
              "      <td>1</td>\n",
              "      <td>0</td>\n",
              "      <td>1</td>\n",
              "      <td>0</td>\n",
              "      <td>0</td>\n",
              "    </tr>\n",
              "    <tr>\n",
              "      <th>5103</th>\n",
              "      <td>55104</td>\n",
              "      <td>0</td>\n",
              "      <td>20.0</td>\n",
              "      <td>2</td>\n",
              "      <td>8.0</td>\n",
              "      <td>0</td>\n",
              "      <td>3.0</td>\n",
              "      <td>4</td>\n",
              "      <td>5</td>\n",
              "      <td>8</td>\n",
              "      <td>...</td>\n",
              "      <td>0</td>\n",
              "      <td>0</td>\n",
              "      <td>0</td>\n",
              "      <td>0</td>\n",
              "      <td>0</td>\n",
              "      <td>1</td>\n",
              "      <td>0</td>\n",
              "      <td>0</td>\n",
              "      <td>0</td>\n",
              "      <td>1</td>\n",
              "    </tr>\n",
              "    <tr>\n",
              "      <th>2818</th>\n",
              "      <td>52819</td>\n",
              "      <td>1</td>\n",
              "      <td>1.0</td>\n",
              "      <td>3</td>\n",
              "      <td>16.0</td>\n",
              "      <td>1</td>\n",
              "      <td>3.0</td>\n",
              "      <td>5</td>\n",
              "      <td>5</td>\n",
              "      <td>9</td>\n",
              "      <td>...</td>\n",
              "      <td>0</td>\n",
              "      <td>0</td>\n",
              "      <td>0</td>\n",
              "      <td>1</td>\n",
              "      <td>0</td>\n",
              "      <td>0</td>\n",
              "      <td>0</td>\n",
              "      <td>0</td>\n",
              "      <td>0</td>\n",
              "      <td>1</td>\n",
              "    </tr>\n",
              "    <tr>\n",
              "      <th>1269</th>\n",
              "      <td>51270</td>\n",
              "      <td>0</td>\n",
              "      <td>5.0</td>\n",
              "      <td>1</td>\n",
              "      <td>11.0</td>\n",
              "      <td>1</td>\n",
              "      <td>2.0</td>\n",
              "      <td>4</td>\n",
              "      <td>1</td>\n",
              "      <td>9</td>\n",
              "      <td>...</td>\n",
              "      <td>0</td>\n",
              "      <td>0</td>\n",
              "      <td>0</td>\n",
              "      <td>1</td>\n",
              "      <td>0</td>\n",
              "      <td>0</td>\n",
              "      <td>0</td>\n",
              "      <td>0</td>\n",
              "      <td>0</td>\n",
              "      <td>1</td>\n",
              "    </tr>\n",
              "    <tr>\n",
              "      <th>2745</th>\n",
              "      <td>52746</td>\n",
              "      <td>0</td>\n",
              "      <td>11.0</td>\n",
              "      <td>2</td>\n",
              "      <td>7.0</td>\n",
              "      <td>1</td>\n",
              "      <td>NaN</td>\n",
              "      <td>3</td>\n",
              "      <td>4</td>\n",
              "      <td>1</td>\n",
              "      <td>...</td>\n",
              "      <td>1</td>\n",
              "      <td>0</td>\n",
              "      <td>0</td>\n",
              "      <td>0</td>\n",
              "      <td>1</td>\n",
              "      <td>0</td>\n",
              "      <td>0</td>\n",
              "      <td>0</td>\n",
              "      <td>1</td>\n",
              "      <td>0</td>\n",
              "    </tr>\n",
              "  </tbody>\n",
              "</table>\n",
              "<p>5 rows × 35 columns</p>\n",
              "</div>\n",
              "      <button class=\"colab-df-convert\" onclick=\"convertToInteractive('df-f224cdcc-6d4a-4e2a-8aa9-bd8fdf4d84dd')\"\n",
              "              title=\"Convert this dataframe to an interactive table.\"\n",
              "              style=\"display:none;\">\n",
              "        \n",
              "  <svg xmlns=\"http://www.w3.org/2000/svg\" height=\"24px\"viewBox=\"0 0 24 24\"\n",
              "       width=\"24px\">\n",
              "    <path d=\"M0 0h24v24H0V0z\" fill=\"none\"/>\n",
              "    <path d=\"M18.56 5.44l.94 2.06.94-2.06 2.06-.94-2.06-.94-.94-2.06-.94 2.06-2.06.94zm-11 1L8.5 8.5l.94-2.06 2.06-.94-2.06-.94L8.5 2.5l-.94 2.06-2.06.94zm10 10l.94 2.06.94-2.06 2.06-.94-2.06-.94-.94-2.06-.94 2.06-2.06.94z\"/><path d=\"M17.41 7.96l-1.37-1.37c-.4-.4-.92-.59-1.43-.59-.52 0-1.04.2-1.43.59L10.3 9.45l-7.72 7.72c-.78.78-.78 2.05 0 2.83L4 21.41c.39.39.9.59 1.41.59.51 0 1.02-.2 1.41-.59l7.78-7.78 2.81-2.81c.8-.78.8-2.07 0-2.86zM5.41 20L4 18.59l7.72-7.72 1.47 1.35L5.41 20z\"/>\n",
              "  </svg>\n",
              "      </button>\n",
              "      \n",
              "  <style>\n",
              "    .colab-df-container {\n",
              "      display:flex;\n",
              "      flex-wrap:wrap;\n",
              "      gap: 12px;\n",
              "    }\n",
              "\n",
              "    .colab-df-convert {\n",
              "      background-color: #E8F0FE;\n",
              "      border: none;\n",
              "      border-radius: 50%;\n",
              "      cursor: pointer;\n",
              "      display: none;\n",
              "      fill: #1967D2;\n",
              "      height: 32px;\n",
              "      padding: 0 0 0 0;\n",
              "      width: 32px;\n",
              "    }\n",
              "\n",
              "    .colab-df-convert:hover {\n",
              "      background-color: #E2EBFA;\n",
              "      box-shadow: 0px 1px 2px rgba(60, 64, 67, 0.3), 0px 1px 3px 1px rgba(60, 64, 67, 0.15);\n",
              "      fill: #174EA6;\n",
              "    }\n",
              "\n",
              "    [theme=dark] .colab-df-convert {\n",
              "      background-color: #3B4455;\n",
              "      fill: #D2E3FC;\n",
              "    }\n",
              "\n",
              "    [theme=dark] .colab-df-convert:hover {\n",
              "      background-color: #434B5C;\n",
              "      box-shadow: 0px 1px 3px 1px rgba(0, 0, 0, 0.15);\n",
              "      filter: drop-shadow(0px 1px 2px rgba(0, 0, 0, 0.3));\n",
              "      fill: #FFFFFF;\n",
              "    }\n",
              "  </style>\n",
              "\n",
              "      <script>\n",
              "        const buttonEl =\n",
              "          document.querySelector('#df-f224cdcc-6d4a-4e2a-8aa9-bd8fdf4d84dd button.colab-df-convert');\n",
              "        buttonEl.style.display =\n",
              "          google.colab.kernel.accessAllowed ? 'block' : 'none';\n",
              "\n",
              "        async function convertToInteractive(key) {\n",
              "          const element = document.querySelector('#df-f224cdcc-6d4a-4e2a-8aa9-bd8fdf4d84dd');\n",
              "          const dataTable =\n",
              "            await google.colab.kernel.invokeFunction('convertToInteractive',\n",
              "                                                     [key], {});\n",
              "          if (!dataTable) return;\n",
              "\n",
              "          const docLinkHtml = 'Like what you see? Visit the ' +\n",
              "            '<a target=\"_blank\" href=https://colab.research.google.com/notebooks/data_table.ipynb>data table notebook</a>'\n",
              "            + ' to learn more about interactive tables.';\n",
              "          element.innerHTML = '';\n",
              "          dataTable['output_type'] = 'display_data';\n",
              "          await google.colab.output.renderOutput(dataTable, element);\n",
              "          const docLink = document.createElement('div');\n",
              "          docLink.innerHTML = docLinkHtml;\n",
              "          element.appendChild(docLink);\n",
              "        }\n",
              "      </script>\n",
              "    </div>\n",
              "  </div>\n",
              "  "
            ]
          },
          "metadata": {},
          "execution_count": 262
        }
      ],
      "source": [
        "df.sample(5)"
      ]
    },
    {
      "cell_type": "code",
      "execution_count": 263,
      "metadata": {
        "scrolled": true,
        "colab": {
          "base_uri": "https://localhost:8080/"
        },
        "id": "B0OGsZwDc8_Y",
        "outputId": "fc342d2f-4347-447b-fe63-d41af976e47b"
      },
      "outputs": [
        {
          "output_type": "stream",
          "name": "stdout",
          "text": [
            "1856\n"
          ]
        }
      ],
      "source": [
        "nan_count = df.isna().sum().sum()\n",
        "print(nan_count )"
      ]
    },
    {
      "cell_type": "code",
      "source": [
        "df.fillna(df.median(), inplace=True)"
      ],
      "metadata": {
        "id": "Z3uB6h6A7ZBE"
      },
      "execution_count": 264,
      "outputs": []
    },
    {
      "cell_type": "code",
      "execution_count": 265,
      "metadata": {
        "id": "j8OHcXtMc8_Y"
      },
      "outputs": [],
      "source": [
        "cols_to_scale = ['CashbackAmount']\n",
        "\n",
        "from sklearn.preprocessing import MinMaxScaler\n",
        "scaler = MinMaxScaler()\n",
        "df[cols_to_scale] = scaler.fit_transform(df[cols_to_scale])"
      ]
    },
    {
      "cell_type": "code",
      "source": [
        "#Undersampling to handle class imbalance\n",
        "def Under_Sampling(df):\n",
        "  df_pos = df[df['Churn'] == 1]\n",
        "  df_neg = df[df['Churn'] == 0]\n",
        "  msk = np.random.rand(len(df_neg)) < 0.25\n",
        "  print (len(msk))\n",
        "  df_neg_sample = df_neg[msk]\n",
        "  df_sample_data = pd.concat([df_pos,df_neg_sample])\n",
        "  df_sample_data = df_sample_data.sample(frac=1).reset_index(drop=True)\n",
        "  return df_sample_data\n"
      ],
      "metadata": {
        "id": "nNy0vnX382sw"
      },
      "execution_count": 266,
      "outputs": []
    },
    {
      "cell_type": "code",
      "source": [
        "df = Under_Sampling(df)  "
      ],
      "metadata": {
        "colab": {
          "base_uri": "https://localhost:8080/"
        },
        "id": "y24nynz886Y0",
        "outputId": "51eea40e-3ad7-4e6d-f679-c1482680f921"
      },
      "execution_count": 267,
      "outputs": [
        {
          "output_type": "stream",
          "name": "stdout",
          "text": [
            "4682\n"
          ]
        }
      ]
    },
    {
      "cell_type": "markdown",
      "metadata": {
        "id": "5u3qzVEcc8_Y"
      },
      "source": [
        "**Train test split**"
      ]
    },
    {
      "cell_type": "code",
      "execution_count": 268,
      "metadata": {
        "colab": {
          "base_uri": "https://localhost:8080/"
        },
        "id": "P67CL45Qc8_Y",
        "outputId": "4a98decb-a4de-45e9-f194-2ac089ce9855"
      },
      "outputs": [
        {
          "output_type": "stream",
          "name": "stdout",
          "text": [
            "(1689, 33)\n",
            "(1689,)\n",
            "(211, 33)\n",
            "(211,)\n",
            "(212, 33)\n",
            "(212,)\n"
          ]
        },
        {
          "output_type": "execute_result",
          "data": {
            "text/plain": [
              "(None, None)"
            ]
          },
          "metadata": {},
          "execution_count": 268
        }
      ],
      "source": [
        "drop_cols = ['CustomerID']\n",
        "# y = df['Churn']\n",
        "\n",
        "df = df.drop(drop_cols,axis=1)\n",
        "# y = df['Churn']\n",
        "\n",
        "# from sklearn.model_selection import train_test_split\n",
        "# X_train, X_test, y_train, y_test = train_test_split(X,y,test_size=0.2,random_state=5)\n",
        "\n",
        "\n",
        "\n",
        "X_train, y_train, X_valid, y_valid, X_test, y_test = train_valid_test_split(df, target = 'Churn', \n",
        "                                                                            train_size=0.8, valid_size=0.1, test_size=0.1)\n",
        "\n",
        "print(X_train.shape), print(y_train.shape)\n",
        "print(X_valid.shape), print(y_valid.shape)\n",
        "print(X_test.shape), print(y_test.shape)"
      ]
    },
    {
      "cell_type": "code",
      "source": [],
      "metadata": {
        "id": "BzR3RF5UwaTp"
      },
      "execution_count": 268,
      "outputs": []
    },
    {
      "cell_type": "code",
      "execution_count": 269,
      "metadata": {
        "colab": {
          "base_uri": "https://localhost:8080/"
        },
        "id": "rnoQNR3mc8_Z",
        "outputId": "70bd8703-2a96-4c25-f864-8349f838328f"
      },
      "outputs": [
        {
          "output_type": "execute_result",
          "data": {
            "text/plain": [
              "(1689, 33)"
            ]
          },
          "metadata": {},
          "execution_count": 269
        }
      ],
      "source": [
        "X_train.shape"
      ]
    },
    {
      "cell_type": "code",
      "execution_count": 270,
      "metadata": {
        "scrolled": true,
        "colab": {
          "base_uri": "https://localhost:8080/"
        },
        "id": "Il25h84-c8_Z",
        "outputId": "a442f362-afbc-4f0b-b55a-212abad2a193"
      },
      "outputs": [
        {
          "output_type": "execute_result",
          "data": {
            "text/plain": [
              "(212, 33)"
            ]
          },
          "metadata": {},
          "execution_count": 270
        }
      ],
      "source": [
        "X_test.shape"
      ]
    },
    {
      "cell_type": "code",
      "execution_count": 271,
      "metadata": {
        "colab": {
          "base_uri": "https://localhost:8080/"
        },
        "id": "CDTL5xVFc8_Z",
        "outputId": "7dd21177-93bd-4f54-e4e0-464dfaaa5550"
      },
      "outputs": [
        {
          "output_type": "execute_result",
          "data": {
            "text/plain": [
              "33"
            ]
          },
          "metadata": {},
          "execution_count": 271
        }
      ],
      "source": [
        "len(X_train.columns)"
      ]
    },
    {
      "cell_type": "markdown",
      "metadata": {
        "id": "T6cOyRA8c8_Z"
      },
      "source": [
        "**Build a model (ANN) in tensorflow/keras**"
      ]
    },
    {
      "cell_type": "code",
      "execution_count": 272,
      "metadata": {
        "scrolled": false,
        "colab": {
          "base_uri": "https://localhost:8080/"
        },
        "id": "lLdmYdDic8_Z",
        "outputId": "ded5b2b4-47f9-4ef4-d5c9-7fc04790412b"
      },
      "outputs": [
        {
          "output_type": "stream",
          "name": "stdout",
          "text": [
            "Epoch 1/150\n",
            "53/53 [==============================] - 2s 7ms/step - loss: 0.6524 - accuracy: 0.6655 - val_loss: 0.5720 - val_accuracy: 0.7441\n",
            "Epoch 2/150\n",
            "53/53 [==============================] - 0s 5ms/step - loss: 0.5553 - accuracy: 0.7194 - val_loss: 0.5233 - val_accuracy: 0.7441\n",
            "Epoch 3/150\n",
            "53/53 [==============================] - 0s 4ms/step - loss: 0.5213 - accuracy: 0.7484 - val_loss: 0.5132 - val_accuracy: 0.7773\n",
            "Epoch 4/150\n",
            "53/53 [==============================] - 0s 4ms/step - loss: 0.4951 - accuracy: 0.7649 - val_loss: 0.4871 - val_accuracy: 0.7820\n",
            "Epoch 5/150\n",
            "53/53 [==============================] - 0s 4ms/step - loss: 0.4702 - accuracy: 0.7857 - val_loss: 0.4828 - val_accuracy: 0.7867\n",
            "Epoch 6/150\n",
            "53/53 [==============================] - 0s 4ms/step - loss: 0.4510 - accuracy: 0.7910 - val_loss: 0.4752 - val_accuracy: 0.7725\n",
            "Epoch 7/150\n",
            "53/53 [==============================] - 0s 4ms/step - loss: 0.4293 - accuracy: 0.8052 - val_loss: 0.4580 - val_accuracy: 0.7820\n",
            "Epoch 8/150\n",
            "53/53 [==============================] - 0s 5ms/step - loss: 0.4184 - accuracy: 0.8094 - val_loss: 0.4483 - val_accuracy: 0.7678\n",
            "Epoch 9/150\n",
            "53/53 [==============================] - 0s 5ms/step - loss: 0.4047 - accuracy: 0.8242 - val_loss: 0.4325 - val_accuracy: 0.8009\n",
            "Epoch 10/150\n",
            "53/53 [==============================] - 0s 6ms/step - loss: 0.4014 - accuracy: 0.8324 - val_loss: 0.4332 - val_accuracy: 0.8009\n",
            "Epoch 11/150\n",
            "53/53 [==============================] - 0s 8ms/step - loss: 0.4000 - accuracy: 0.8271 - val_loss: 0.4213 - val_accuracy: 0.8104\n",
            "Epoch 12/150\n",
            "53/53 [==============================] - 0s 6ms/step - loss: 0.3903 - accuracy: 0.8342 - val_loss: 0.4250 - val_accuracy: 0.8294\n",
            "Epoch 13/150\n",
            "53/53 [==============================] - 0s 7ms/step - loss: 0.3967 - accuracy: 0.8218 - val_loss: 0.4459 - val_accuracy: 0.8246\n",
            "Epoch 14/150\n",
            "53/53 [==============================] - 0s 6ms/step - loss: 0.3851 - accuracy: 0.8301 - val_loss: 0.4083 - val_accuracy: 0.8152\n",
            "Epoch 15/150\n",
            "53/53 [==============================] - 0s 6ms/step - loss: 0.3880 - accuracy: 0.8301 - val_loss: 0.4040 - val_accuracy: 0.8246\n",
            "Epoch 16/150\n",
            "53/53 [==============================] - 0s 6ms/step - loss: 0.3787 - accuracy: 0.8372 - val_loss: 0.4095 - val_accuracy: 0.8199\n",
            "Epoch 17/150\n",
            "53/53 [==============================] - 0s 6ms/step - loss: 0.3774 - accuracy: 0.8354 - val_loss: 0.4064 - val_accuracy: 0.8199\n",
            "Epoch 18/150\n",
            "53/53 [==============================] - 0s 5ms/step - loss: 0.3707 - accuracy: 0.8401 - val_loss: 0.4050 - val_accuracy: 0.8294\n",
            "Epoch 19/150\n",
            "53/53 [==============================] - 0s 7ms/step - loss: 0.3722 - accuracy: 0.8390 - val_loss: 0.4076 - val_accuracy: 0.8246\n",
            "Epoch 20/150\n",
            "53/53 [==============================] - 0s 6ms/step - loss: 0.3727 - accuracy: 0.8384 - val_loss: 0.4117 - val_accuracy: 0.8152\n",
            "Epoch 21/150\n",
            "53/53 [==============================] - 0s 4ms/step - loss: 0.3698 - accuracy: 0.8461 - val_loss: 0.3889 - val_accuracy: 0.8389\n",
            "Epoch 22/150\n",
            "53/53 [==============================] - 0s 4ms/step - loss: 0.3609 - accuracy: 0.8455 - val_loss: 0.3899 - val_accuracy: 0.8199\n",
            "Epoch 23/150\n",
            "53/53 [==============================] - 0s 6ms/step - loss: 0.3657 - accuracy: 0.8455 - val_loss: 0.4147 - val_accuracy: 0.8246\n",
            "Epoch 24/150\n",
            "53/53 [==============================] - 0s 4ms/step - loss: 0.3616 - accuracy: 0.8478 - val_loss: 0.3849 - val_accuracy: 0.8294\n",
            "Epoch 25/150\n",
            "53/53 [==============================] - 0s 4ms/step - loss: 0.3577 - accuracy: 0.8455 - val_loss: 0.3766 - val_accuracy: 0.8341\n",
            "Epoch 26/150\n",
            "53/53 [==============================] - 0s 4ms/step - loss: 0.3537 - accuracy: 0.8496 - val_loss: 0.3769 - val_accuracy: 0.8389\n",
            "Epoch 27/150\n",
            "53/53 [==============================] - 0s 4ms/step - loss: 0.3482 - accuracy: 0.8544 - val_loss: 0.3783 - val_accuracy: 0.8389\n",
            "Epoch 28/150\n",
            "53/53 [==============================] - 0s 4ms/step - loss: 0.3451 - accuracy: 0.8544 - val_loss: 0.3836 - val_accuracy: 0.8389\n",
            "Epoch 29/150\n",
            "53/53 [==============================] - 0s 4ms/step - loss: 0.3616 - accuracy: 0.8437 - val_loss: 0.3829 - val_accuracy: 0.8341\n",
            "Epoch 30/150\n",
            "53/53 [==============================] - 0s 4ms/step - loss: 0.3522 - accuracy: 0.8502 - val_loss: 0.3964 - val_accuracy: 0.8436\n",
            "Epoch 31/150\n",
            "53/53 [==============================] - 0s 4ms/step - loss: 0.3571 - accuracy: 0.8378 - val_loss: 0.3808 - val_accuracy: 0.8483\n",
            "Epoch 32/150\n",
            "53/53 [==============================] - 0s 4ms/step - loss: 0.3377 - accuracy: 0.8561 - val_loss: 0.3686 - val_accuracy: 0.8436\n",
            "Epoch 33/150\n",
            "53/53 [==============================] - 0s 4ms/step - loss: 0.3349 - accuracy: 0.8555 - val_loss: 0.3747 - val_accuracy: 0.8436\n",
            "Epoch 34/150\n",
            "53/53 [==============================] - 0s 4ms/step - loss: 0.3344 - accuracy: 0.8603 - val_loss: 0.3700 - val_accuracy: 0.8389\n",
            "Epoch 35/150\n",
            "53/53 [==============================] - 0s 4ms/step - loss: 0.3344 - accuracy: 0.8573 - val_loss: 0.3686 - val_accuracy: 0.8341\n",
            "Epoch 36/150\n",
            "53/53 [==============================] - 0s 4ms/step - loss: 0.3351 - accuracy: 0.8603 - val_loss: 0.3698 - val_accuracy: 0.8531\n",
            "Epoch 37/150\n",
            "53/53 [==============================] - 0s 4ms/step - loss: 0.3352 - accuracy: 0.8626 - val_loss: 0.3595 - val_accuracy: 0.8531\n",
            "Epoch 38/150\n",
            "53/53 [==============================] - 0s 4ms/step - loss: 0.3276 - accuracy: 0.8597 - val_loss: 0.3623 - val_accuracy: 0.8578\n",
            "Epoch 39/150\n",
            "53/53 [==============================] - 0s 4ms/step - loss: 0.3221 - accuracy: 0.8692 - val_loss: 0.3568 - val_accuracy: 0.8531\n",
            "Epoch 40/150\n",
            "53/53 [==============================] - 0s 4ms/step - loss: 0.3256 - accuracy: 0.8703 - val_loss: 0.3632 - val_accuracy: 0.8626\n",
            "Epoch 41/150\n",
            "53/53 [==============================] - 0s 4ms/step - loss: 0.3187 - accuracy: 0.8680 - val_loss: 0.3477 - val_accuracy: 0.8720\n",
            "Epoch 42/150\n",
            "53/53 [==============================] - 0s 4ms/step - loss: 0.3156 - accuracy: 0.8692 - val_loss: 0.3669 - val_accuracy: 0.8578\n",
            "Epoch 43/150\n",
            "53/53 [==============================] - 0s 4ms/step - loss: 0.3170 - accuracy: 0.8686 - val_loss: 0.3577 - val_accuracy: 0.8531\n",
            "Epoch 44/150\n",
            "53/53 [==============================] - 0s 8ms/step - loss: 0.3169 - accuracy: 0.8674 - val_loss: 0.3589 - val_accuracy: 0.8531\n",
            "Epoch 45/150\n",
            "53/53 [==============================] - 0s 7ms/step - loss: 0.3162 - accuracy: 0.8697 - val_loss: 0.3493 - val_accuracy: 0.8531\n",
            "Epoch 46/150\n",
            "53/53 [==============================] - 0s 7ms/step - loss: 0.3130 - accuracy: 0.8626 - val_loss: 0.3409 - val_accuracy: 0.8815\n",
            "Epoch 47/150\n",
            "53/53 [==============================] - 0s 8ms/step - loss: 0.3109 - accuracy: 0.8757 - val_loss: 0.3463 - val_accuracy: 0.8910\n",
            "Epoch 48/150\n",
            "53/53 [==============================] - 0s 8ms/step - loss: 0.3107 - accuracy: 0.8703 - val_loss: 0.3356 - val_accuracy: 0.8673\n",
            "Epoch 49/150\n",
            "53/53 [==============================] - 0s 7ms/step - loss: 0.3096 - accuracy: 0.8733 - val_loss: 0.3373 - val_accuracy: 0.8815\n",
            "Epoch 50/150\n",
            "53/53 [==============================] - 0s 7ms/step - loss: 0.3177 - accuracy: 0.8745 - val_loss: 0.3295 - val_accuracy: 0.8673\n",
            "Epoch 51/150\n",
            "53/53 [==============================] - 0s 8ms/step - loss: 0.3057 - accuracy: 0.8715 - val_loss: 0.3307 - val_accuracy: 0.8768\n",
            "Epoch 52/150\n",
            "53/53 [==============================] - 1s 10ms/step - loss: 0.3013 - accuracy: 0.8804 - val_loss: 0.3478 - val_accuracy: 0.8626\n",
            "Epoch 53/150\n",
            "53/53 [==============================] - 0s 9ms/step - loss: 0.3034 - accuracy: 0.8792 - val_loss: 0.3309 - val_accuracy: 0.8863\n",
            "Epoch 54/150\n",
            "53/53 [==============================] - 0s 9ms/step - loss: 0.2965 - accuracy: 0.8834 - val_loss: 0.3318 - val_accuracy: 0.8863\n",
            "Epoch 55/150\n",
            "53/53 [==============================] - 1s 13ms/step - loss: 0.2950 - accuracy: 0.8863 - val_loss: 0.3333 - val_accuracy: 0.8863\n",
            "Epoch 56/150\n",
            "53/53 [==============================] - 1s 13ms/step - loss: 0.2959 - accuracy: 0.8840 - val_loss: 0.3348 - val_accuracy: 0.8720\n",
            "Epoch 57/150\n",
            "53/53 [==============================] - 1s 12ms/step - loss: 0.2914 - accuracy: 0.8774 - val_loss: 0.3237 - val_accuracy: 0.8863\n",
            "Epoch 58/150\n",
            "53/53 [==============================] - 0s 9ms/step - loss: 0.2985 - accuracy: 0.8703 - val_loss: 0.3655 - val_accuracy: 0.8483\n",
            "Epoch 59/150\n",
            "53/53 [==============================] - 1s 10ms/step - loss: 0.2922 - accuracy: 0.8769 - val_loss: 0.3289 - val_accuracy: 0.8815\n",
            "Epoch 60/150\n",
            "53/53 [==============================] - 1s 12ms/step - loss: 0.2963 - accuracy: 0.8822 - val_loss: 0.3225 - val_accuracy: 0.8815\n",
            "Epoch 61/150\n",
            "53/53 [==============================] - 0s 9ms/step - loss: 0.2902 - accuracy: 0.8822 - val_loss: 0.3258 - val_accuracy: 0.8673\n",
            "Epoch 62/150\n",
            "53/53 [==============================] - 0s 8ms/step - loss: 0.2927 - accuracy: 0.8810 - val_loss: 0.3351 - val_accuracy: 0.8720\n",
            "Epoch 63/150\n",
            "53/53 [==============================] - 0s 8ms/step - loss: 0.2855 - accuracy: 0.8751 - val_loss: 0.3441 - val_accuracy: 0.8626\n",
            "Epoch 64/150\n",
            "53/53 [==============================] - 0s 8ms/step - loss: 0.2799 - accuracy: 0.8911 - val_loss: 0.3621 - val_accuracy: 0.8578\n",
            "Epoch 65/150\n",
            "53/53 [==============================] - 0s 7ms/step - loss: 0.2839 - accuracy: 0.8822 - val_loss: 0.3283 - val_accuracy: 0.8720\n",
            "Epoch 66/150\n",
            "53/53 [==============================] - 1s 10ms/step - loss: 0.2816 - accuracy: 0.8851 - val_loss: 0.3317 - val_accuracy: 0.8720\n",
            "Epoch 67/150\n",
            "53/53 [==============================] - 0s 9ms/step - loss: 0.2767 - accuracy: 0.8946 - val_loss: 0.3209 - val_accuracy: 0.8863\n",
            "Epoch 68/150\n",
            "53/53 [==============================] - 0s 7ms/step - loss: 0.2772 - accuracy: 0.8881 - val_loss: 0.3189 - val_accuracy: 0.8768\n",
            "Epoch 69/150\n",
            "53/53 [==============================] - 1s 10ms/step - loss: 0.2781 - accuracy: 0.8851 - val_loss: 0.3293 - val_accuracy: 0.8720\n",
            "Epoch 70/150\n",
            "53/53 [==============================] - 0s 7ms/step - loss: 0.2685 - accuracy: 0.8928 - val_loss: 0.3235 - val_accuracy: 0.8957\n",
            "Epoch 71/150\n",
            "53/53 [==============================] - 0s 6ms/step - loss: 0.2702 - accuracy: 0.8869 - val_loss: 0.3489 - val_accuracy: 0.8768\n",
            "Epoch 72/150\n",
            "53/53 [==============================] - 0s 8ms/step - loss: 0.2674 - accuracy: 0.8934 - val_loss: 0.3444 - val_accuracy: 0.8673\n",
            "Epoch 73/150\n",
            "53/53 [==============================] - 0s 7ms/step - loss: 0.2719 - accuracy: 0.8905 - val_loss: 0.3100 - val_accuracy: 0.8910\n",
            "Epoch 74/150\n",
            "53/53 [==============================] - 0s 7ms/step - loss: 0.2735 - accuracy: 0.8922 - val_loss: 0.3194 - val_accuracy: 0.8863\n",
            "Epoch 75/150\n",
            "53/53 [==============================] - 0s 7ms/step - loss: 0.2700 - accuracy: 0.8911 - val_loss: 0.3057 - val_accuracy: 0.8957\n",
            "Epoch 76/150\n",
            "53/53 [==============================] - 0s 7ms/step - loss: 0.2688 - accuracy: 0.8940 - val_loss: 0.3239 - val_accuracy: 0.8673\n",
            "Epoch 77/150\n",
            "53/53 [==============================] - 0s 9ms/step - loss: 0.2629 - accuracy: 0.8940 - val_loss: 0.3058 - val_accuracy: 0.8957\n",
            "Epoch 78/150\n",
            "53/53 [==============================] - 0s 9ms/step - loss: 0.2637 - accuracy: 0.8988 - val_loss: 0.3104 - val_accuracy: 0.8863\n",
            "Epoch 79/150\n",
            "53/53 [==============================] - 0s 6ms/step - loss: 0.2591 - accuracy: 0.8988 - val_loss: 0.3098 - val_accuracy: 0.8863\n",
            "Epoch 80/150\n",
            "53/53 [==============================] - 0s 9ms/step - loss: 0.2561 - accuracy: 0.9005 - val_loss: 0.3246 - val_accuracy: 0.8863\n",
            "Epoch 81/150\n",
            "53/53 [==============================] - 0s 9ms/step - loss: 0.2554 - accuracy: 0.8958 - val_loss: 0.3076 - val_accuracy: 0.8957\n",
            "Epoch 82/150\n",
            "53/53 [==============================] - 0s 7ms/step - loss: 0.2596 - accuracy: 0.8999 - val_loss: 0.3080 - val_accuracy: 0.8910\n",
            "Epoch 83/150\n",
            "53/53 [==============================] - 0s 7ms/step - loss: 0.2489 - accuracy: 0.9005 - val_loss: 0.3087 - val_accuracy: 0.8863\n",
            "Epoch 84/150\n",
            "53/53 [==============================] - 0s 8ms/step - loss: 0.2536 - accuracy: 0.8982 - val_loss: 0.3127 - val_accuracy: 0.8815\n",
            "Epoch 85/150\n",
            "53/53 [==============================] - 1s 10ms/step - loss: 0.2548 - accuracy: 0.8982 - val_loss: 0.3357 - val_accuracy: 0.8578\n",
            "Epoch 86/150\n",
            "53/53 [==============================] - 1s 15ms/step - loss: 0.2532 - accuracy: 0.9017 - val_loss: 0.3054 - val_accuracy: 0.8957\n",
            "Epoch 87/150\n",
            "53/53 [==============================] - 1s 17ms/step - loss: 0.2427 - accuracy: 0.9065 - val_loss: 0.3031 - val_accuracy: 0.9005\n",
            "Epoch 88/150\n",
            "53/53 [==============================] - 1s 11ms/step - loss: 0.2440 - accuracy: 0.9076 - val_loss: 0.3358 - val_accuracy: 0.8768\n",
            "Epoch 89/150\n",
            "53/53 [==============================] - 1s 14ms/step - loss: 0.2534 - accuracy: 0.8934 - val_loss: 0.3080 - val_accuracy: 0.8863\n",
            "Epoch 90/150\n",
            "53/53 [==============================] - 1s 13ms/step - loss: 0.2453 - accuracy: 0.9035 - val_loss: 0.3106 - val_accuracy: 0.8815\n",
            "Epoch 91/150\n",
            "53/53 [==============================] - 1s 10ms/step - loss: 0.2467 - accuracy: 0.9035 - val_loss: 0.3029 - val_accuracy: 0.9005\n",
            "Epoch 92/150\n",
            "53/53 [==============================] - 1s 10ms/step - loss: 0.2473 - accuracy: 0.9053 - val_loss: 0.3215 - val_accuracy: 0.8863\n",
            "Epoch 93/150\n",
            "53/53 [==============================] - 0s 8ms/step - loss: 0.2440 - accuracy: 0.9023 - val_loss: 0.3242 - val_accuracy: 0.9100\n",
            "Epoch 94/150\n",
            "53/53 [==============================] - 0s 8ms/step - loss: 0.2425 - accuracy: 0.9100 - val_loss: 0.3073 - val_accuracy: 0.9005\n",
            "Epoch 95/150\n",
            "53/53 [==============================] - 0s 8ms/step - loss: 0.2401 - accuracy: 0.9088 - val_loss: 0.3381 - val_accuracy: 0.8768\n",
            "Epoch 96/150\n",
            "53/53 [==============================] - 0s 7ms/step - loss: 0.2386 - accuracy: 0.9070 - val_loss: 0.3098 - val_accuracy: 0.9005\n",
            "Epoch 97/150\n",
            "53/53 [==============================] - 0s 7ms/step - loss: 0.2423 - accuracy: 0.9047 - val_loss: 0.2964 - val_accuracy: 0.9005\n",
            "Epoch 98/150\n",
            "53/53 [==============================] - 0s 7ms/step - loss: 0.2352 - accuracy: 0.9142 - val_loss: 0.2939 - val_accuracy: 0.8910\n",
            "Epoch 99/150\n",
            "53/53 [==============================] - 0s 9ms/step - loss: 0.2310 - accuracy: 0.9130 - val_loss: 0.2918 - val_accuracy: 0.9147\n",
            "Epoch 100/150\n",
            "53/53 [==============================] - 0s 9ms/step - loss: 0.2412 - accuracy: 0.9011 - val_loss: 0.2943 - val_accuracy: 0.9100\n",
            "Epoch 101/150\n",
            "53/53 [==============================] - 0s 7ms/step - loss: 0.2502 - accuracy: 0.8976 - val_loss: 0.3105 - val_accuracy: 0.8815\n",
            "Epoch 102/150\n",
            "53/53 [==============================] - 0s 9ms/step - loss: 0.2309 - accuracy: 0.9142 - val_loss: 0.3139 - val_accuracy: 0.8910\n",
            "Epoch 103/150\n",
            "53/53 [==============================] - 0s 7ms/step - loss: 0.2266 - accuracy: 0.9136 - val_loss: 0.3095 - val_accuracy: 0.8815\n",
            "Epoch 104/150\n",
            "53/53 [==============================] - 0s 7ms/step - loss: 0.2280 - accuracy: 0.9142 - val_loss: 0.2936 - val_accuracy: 0.8957\n",
            "Epoch 105/150\n",
            "53/53 [==============================] - 0s 9ms/step - loss: 0.2239 - accuracy: 0.9147 - val_loss: 0.2917 - val_accuracy: 0.9052\n",
            "Epoch 106/150\n",
            "53/53 [==============================] - 0s 7ms/step - loss: 0.2242 - accuracy: 0.9130 - val_loss: 0.2841 - val_accuracy: 0.9100\n",
            "Epoch 107/150\n",
            "53/53 [==============================] - 0s 4ms/step - loss: 0.2226 - accuracy: 0.9147 - val_loss: 0.2886 - val_accuracy: 0.8957\n",
            "Epoch 108/150\n",
            "53/53 [==============================] - 0s 4ms/step - loss: 0.2307 - accuracy: 0.9112 - val_loss: 0.3118 - val_accuracy: 0.8863\n",
            "Epoch 109/150\n",
            "53/53 [==============================] - 0s 4ms/step - loss: 0.2284 - accuracy: 0.9159 - val_loss: 0.2974 - val_accuracy: 0.9100\n",
            "Epoch 110/150\n",
            "53/53 [==============================] - 0s 4ms/step - loss: 0.2443 - accuracy: 0.9035 - val_loss: 0.3219 - val_accuracy: 0.8720\n",
            "Epoch 111/150\n",
            "53/53 [==============================] - 0s 4ms/step - loss: 0.2261 - accuracy: 0.9195 - val_loss: 0.3081 - val_accuracy: 0.8815\n",
            "Epoch 112/150\n",
            "53/53 [==============================] - 0s 4ms/step - loss: 0.2178 - accuracy: 0.9112 - val_loss: 0.2861 - val_accuracy: 0.9052\n",
            "Epoch 113/150\n",
            "53/53 [==============================] - 0s 4ms/step - loss: 0.2155 - accuracy: 0.9159 - val_loss: 0.2903 - val_accuracy: 0.9052\n",
            "Epoch 114/150\n",
            "53/53 [==============================] - 0s 4ms/step - loss: 0.2174 - accuracy: 0.9136 - val_loss: 0.2929 - val_accuracy: 0.9052\n",
            "Epoch 115/150\n",
            "53/53 [==============================] - 0s 4ms/step - loss: 0.2197 - accuracy: 0.9195 - val_loss: 0.2862 - val_accuracy: 0.9100\n",
            "Epoch 116/150\n",
            "53/53 [==============================] - 0s 4ms/step - loss: 0.2145 - accuracy: 0.9213 - val_loss: 0.2854 - val_accuracy: 0.9005\n",
            "Epoch 117/150\n",
            "53/53 [==============================] - 0s 4ms/step - loss: 0.2235 - accuracy: 0.9183 - val_loss: 0.3127 - val_accuracy: 0.8768\n",
            "Epoch 118/150\n",
            "53/53 [==============================] - 0s 4ms/step - loss: 0.2229 - accuracy: 0.9177 - val_loss: 0.3098 - val_accuracy: 0.8910\n",
            "Epoch 119/150\n",
            "53/53 [==============================] - 0s 4ms/step - loss: 0.2227 - accuracy: 0.9159 - val_loss: 0.2860 - val_accuracy: 0.9005\n",
            "Epoch 120/150\n",
            "53/53 [==============================] - 0s 5ms/step - loss: 0.2232 - accuracy: 0.9159 - val_loss: 0.2850 - val_accuracy: 0.9005\n",
            "Epoch 121/150\n",
            "53/53 [==============================] - 0s 4ms/step - loss: 0.2130 - accuracy: 0.9207 - val_loss: 0.2882 - val_accuracy: 0.9005\n",
            "Epoch 122/150\n",
            "53/53 [==============================] - 0s 7ms/step - loss: 0.2102 - accuracy: 0.9213 - val_loss: 0.3033 - val_accuracy: 0.8863\n",
            "Epoch 123/150\n",
            "53/53 [==============================] - 0s 6ms/step - loss: 0.2120 - accuracy: 0.9260 - val_loss: 0.2867 - val_accuracy: 0.8957\n",
            "Epoch 124/150\n",
            "53/53 [==============================] - 0s 7ms/step - loss: 0.2127 - accuracy: 0.9213 - val_loss: 0.2733 - val_accuracy: 0.9100\n",
            "Epoch 125/150\n",
            "53/53 [==============================] - 0s 6ms/step - loss: 0.2110 - accuracy: 0.9248 - val_loss: 0.2741 - val_accuracy: 0.9147\n",
            "Epoch 126/150\n",
            "53/53 [==============================] - 0s 6ms/step - loss: 0.2027 - accuracy: 0.9278 - val_loss: 0.2786 - val_accuracy: 0.9100\n",
            "Epoch 127/150\n",
            "53/53 [==============================] - 0s 6ms/step - loss: 0.2091 - accuracy: 0.9236 - val_loss: 0.2800 - val_accuracy: 0.9005\n",
            "Epoch 128/150\n",
            "53/53 [==============================] - 0s 6ms/step - loss: 0.2124 - accuracy: 0.9195 - val_loss: 0.3002 - val_accuracy: 0.9005\n",
            "Epoch 129/150\n",
            "53/53 [==============================] - 0s 5ms/step - loss: 0.2156 - accuracy: 0.9201 - val_loss: 0.2706 - val_accuracy: 0.9242\n",
            "Epoch 130/150\n",
            "53/53 [==============================] - 0s 6ms/step - loss: 0.2073 - accuracy: 0.9236 - val_loss: 0.2953 - val_accuracy: 0.8815\n",
            "Epoch 131/150\n",
            "53/53 [==============================] - 0s 7ms/step - loss: 0.2167 - accuracy: 0.9177 - val_loss: 0.2934 - val_accuracy: 0.9005\n",
            "Epoch 132/150\n",
            "53/53 [==============================] - 0s 5ms/step - loss: 0.2142 - accuracy: 0.9195 - val_loss: 0.2731 - val_accuracy: 0.9005\n",
            "Epoch 133/150\n",
            "53/53 [==============================] - 0s 4ms/step - loss: 0.2038 - accuracy: 0.9236 - val_loss: 0.2812 - val_accuracy: 0.8957\n",
            "Epoch 134/150\n",
            "53/53 [==============================] - 0s 4ms/step - loss: 0.2001 - accuracy: 0.9290 - val_loss: 0.2819 - val_accuracy: 0.9005\n",
            "Epoch 135/150\n",
            "53/53 [==============================] - 0s 4ms/step - loss: 0.2048 - accuracy: 0.9171 - val_loss: 0.3023 - val_accuracy: 0.8863\n",
            "Epoch 136/150\n",
            "53/53 [==============================] - 0s 4ms/step - loss: 0.2075 - accuracy: 0.9230 - val_loss: 0.2792 - val_accuracy: 0.9052\n",
            "Epoch 137/150\n",
            "53/53 [==============================] - 0s 4ms/step - loss: 0.1996 - accuracy: 0.9236 - val_loss: 0.2793 - val_accuracy: 0.9100\n",
            "Epoch 138/150\n",
            "53/53 [==============================] - 0s 4ms/step - loss: 0.1979 - accuracy: 0.9301 - val_loss: 0.2813 - val_accuracy: 0.8910\n",
            "Epoch 139/150\n",
            "53/53 [==============================] - 0s 4ms/step - loss: 0.2069 - accuracy: 0.9201 - val_loss: 0.2743 - val_accuracy: 0.9100\n",
            "Epoch 140/150\n",
            "53/53 [==============================] - 0s 4ms/step - loss: 0.1991 - accuracy: 0.9242 - val_loss: 0.2748 - val_accuracy: 0.9052\n",
            "Epoch 141/150\n",
            "53/53 [==============================] - 0s 4ms/step - loss: 0.2006 - accuracy: 0.9313 - val_loss: 0.3189 - val_accuracy: 0.8720\n",
            "Epoch 142/150\n",
            "53/53 [==============================] - 0s 4ms/step - loss: 0.2095 - accuracy: 0.9236 - val_loss: 0.2731 - val_accuracy: 0.9005\n",
            "Epoch 143/150\n",
            "53/53 [==============================] - 0s 4ms/step - loss: 0.2030 - accuracy: 0.9189 - val_loss: 0.2756 - val_accuracy: 0.9194\n",
            "Epoch 144/150\n",
            "53/53 [==============================] - 0s 4ms/step - loss: 0.1966 - accuracy: 0.9307 - val_loss: 0.2676 - val_accuracy: 0.9005\n",
            "Epoch 145/150\n",
            "53/53 [==============================] - 0s 5ms/step - loss: 0.1938 - accuracy: 0.9254 - val_loss: 0.2912 - val_accuracy: 0.8957\n",
            "Epoch 146/150\n",
            "53/53 [==============================] - 0s 4ms/step - loss: 0.1952 - accuracy: 0.9266 - val_loss: 0.2701 - val_accuracy: 0.9147\n",
            "Epoch 147/150\n",
            "53/53 [==============================] - 0s 5ms/step - loss: 0.1959 - accuracy: 0.9230 - val_loss: 0.2719 - val_accuracy: 0.9147\n",
            "Epoch 148/150\n",
            "53/53 [==============================] - 0s 4ms/step - loss: 0.1954 - accuracy: 0.9278 - val_loss: 0.2658 - val_accuracy: 0.9052\n",
            "Epoch 149/150\n",
            "53/53 [==============================] - 0s 4ms/step - loss: 0.1908 - accuracy: 0.9242 - val_loss: 0.2809 - val_accuracy: 0.9052\n",
            "Epoch 150/150\n",
            "53/53 [==============================] - 0s 4ms/step - loss: 0.1917 - accuracy: 0.9290 - val_loss: 0.2778 - val_accuracy: 0.9005\n"
          ]
        }
      ],
      "source": [
        "import tensorflow as tf\n",
        "from tensorflow import keras\n",
        "\n",
        "\n",
        "model = keras.Sequential([\n",
        "    keras.layers.Dense(20, input_shape=(33,), activation='relu'),\n",
        "    keras.layers.Dense(15, activation='relu'),\n",
        "    keras.layers.Dense(5, activation='relu'),\n",
        "    keras.layers.Dense(1, activation='sigmoid')\n",
        "])\n",
        "\n",
        "\n",
        "model.compile(optimizer='adam',\n",
        "              loss='binary_crossentropy',\n",
        "              metrics=['accuracy'])\n",
        "\n",
        "history = model.fit(X_train, y_train, epochs=150, validation_data=(X_valid, y_valid))"
      ]
    },
    {
      "cell_type": "code",
      "source": [
        "plt.plot(history.history['accuracy'])\n",
        "plt.plot(history.history['val_accuracy'])\n",
        "plt.title('model accuracy')\n",
        "plt.ylabel('accuracy')\n",
        "plt.xlabel('epoch')\n",
        "plt.legend(['train', 'val'], loc='upper left')\n",
        "plt.show()"
      ],
      "metadata": {
        "colab": {
          "base_uri": "https://localhost:8080/",
          "height": 472
        },
        "id": "Utr1BT-3w2mR",
        "outputId": "57929e6e-be04-469e-e5f0-17882f306c48"
      },
      "execution_count": 273,
      "outputs": [
        {
          "output_type": "display_data",
          "data": {
            "text/plain": [
              "<Figure size 640x480 with 1 Axes>"
            ],
            "image/png": "[encoded data removed]"
          },
          "metadata": {}
        }
      ]
    },
    {
      "cell_type": "code",
      "source": [
        "plt.plot(history.history['loss'])\n",
        "plt.plot(history.history['val_loss'])\n",
        "plt.title('model loss')\n",
        "plt.ylabel('loss')\n",
        "plt.xlabel('epoch')\n",
        "plt.legend(['train', 'val'], loc='upper left')\n",
        "plt.show()"
      ],
      "metadata": {
        "colab": {
          "base_uri": "https://localhost:8080/",
          "height": 472
        },
        "id": "FceXULO5w-On",
        "outputId": "81ebf261-1c0c-4758-bcf6-eaeaaf1d838e"
      },
      "execution_count": 274,
      "outputs": [
        {
          "output_type": "display_data",
          "data": {
            "text/plain": [
              "<Figure size 640x480 with 1 Axes>"
            ],
            "image/png": "[encoded data removed]"
          },
          "metadata": {}
        }
      ]
    },
    {
      "cell_type": "code",
      "execution_count": 275,
      "metadata": {
        "scrolled": true,
        "colab": {
          "base_uri": "https://localhost:8080/"
        },
        "id": "UoXX-WOWc8_a",
        "outputId": "093de378-0eba-47f5-8b9f-2c2f07b585b3"
      },
      "outputs": [
        {
          "output_type": "stream",
          "name": "stdout",
          "text": [
            "7/7 [==============================] - 0s 3ms/step - loss: 0.3044 - accuracy: 0.8868\n"
          ]
        },
        {
          "output_type": "execute_result",
          "data": {
            "text/plain": [
              "[0.30443504452705383, 0.8867924809455872]"
            ]
          },
          "metadata": {},
          "execution_count": 275
        }
      ],
      "source": [
        "model.evaluate(X_test, y_test)"
      ]
    },
    {
      "cell_type": "code",
      "execution_count": 276,
      "metadata": {
        "colab": {
          "base_uri": "https://localhost:8080/"
        },
        "id": "vPnrg_Umc8_a",
        "outputId": "af472f4a-a0d8-4d86-dd2f-c27b0e20e3e9"
      },
      "outputs": [
        {
          "output_type": "stream",
          "name": "stdout",
          "text": [
            "7/7 [==============================] - 0s 2ms/step\n"
          ]
        },
        {
          "output_type": "execute_result",
          "data": {
            "text/plain": [
              "array([[0.19887353],\n",
              "       [0.03102402],\n",
              "       [0.10622118],\n",
              "       [0.00514426],\n",
              "       [0.9998815 ]], dtype=float32)"
            ]
          },
          "metadata": {},
          "execution_count": 276
        }
      ],
      "source": [
        "yp = model.predict(X_test)\n",
        "yp[:5]"
      ]
    },
    {
      "cell_type": "code",
      "execution_count": 277,
      "metadata": {
        "id": "pAeRogtCc8_a"
      },
      "outputs": [],
      "source": [
        "y_pred = []\n",
        "for element in yp:\n",
        "    if element > 0.5:\n",
        "        y_pred.append(1)\n",
        "    else:\n",
        "        y_pred.append(0)"
      ]
    },
    {
      "cell_type": "code",
      "execution_count": 278,
      "metadata": {
        "colab": {
          "base_uri": "https://localhost:8080/"
        },
        "id": "guUACsPIc8_b",
        "outputId": "5b8fcc0f-5205-4068-b525-80c855d17983"
      },
      "outputs": [
        {
          "output_type": "stream",
          "name": "stdout",
          "text": [
            "              precision    recall  f1-score   support\n",
            "\n",
            "           0       0.89      0.91      0.90       117\n",
            "           1       0.88      0.86      0.87        95\n",
            "\n",
            "    accuracy                           0.89       212\n",
            "   macro avg       0.89      0.88      0.89       212\n",
            "weighted avg       0.89      0.89      0.89       212\n",
            "\n"
          ]
        }
      ],
      "source": [
        "from sklearn.metrics import confusion_matrix , classification_report\n",
        "\n",
        "print(classification_report(y_test,y_pred))"
      ]
    },
    {
      "cell_type": "code",
      "execution_count": 279,
      "metadata": {
        "scrolled": false,
        "colab": {
          "base_uri": "https://localhost:8080/",
          "height": 637
        },
        "id": "Otfu48GHc8_b",
        "outputId": "35d24fe6-4fe6-412a-97a9-86b4b5a6226d"
      },
      "outputs": [
        {
          "output_type": "execute_result",
          "data": {
            "text/plain": [
              "Text(95.72222222222221, 0.5, 'Truth')"
            ]
          },
          "metadata": {},
          "execution_count": 279
        },
        {
          "output_type": "display_data",
          "data": {
            "text/plain": [
              "<Figure size 1000x700 with 2 Axes>"
            ],
            "image/png": "[encoded data removed]"
          },
          "metadata": {}
        }
      ],
      "source": [
        "import seaborn as sn\n",
        "cm = tf.math.confusion_matrix(labels=y_test,predictions=y_pred)\n",
        "\n",
        "plt.figure(figsize = (10,7))\n",
        "sn.heatmap(cm, annot=True, fmt='d')\n",
        "plt.xlabel('Predicted')\n",
        "plt.ylabel('Truth')"
      ]
    },
    {
      "cell_type": "code",
      "execution_count": 280,
      "metadata": {
        "colab": {
          "base_uri": "https://localhost:8080/"
        },
        "id": "aibHg7Fkc8_b",
        "outputId": "dfae6885-c9bb-47c8-dac4-e4ef2d1f0afa"
      },
      "outputs": [
        {
          "output_type": "execute_result",
          "data": {
            "text/plain": [
              "(212,)"
            ]
          },
          "metadata": {},
          "execution_count": 280
        }
      ],
      "source": [
        "y_test.shape"
      ]
    }
  ],
  "metadata": {
    "kernelspec": {
      "display_name": "Python 3",
      "language": "python",
      "name": "python3"
    },
    "language_info": {
      "codemirror_mode": {
        "name": "ipython",
        "version": 3
      },
      "file_extension": ".py",
      "mimetype": "text/x-python",
      "name": "python",
      "nbconvert_exporter": "python",
      "pygments_lexer": "ipython3",
      "version": "3.8.5"
    },
    "colab": {
      "provenance": [],
      "gpuType": "T4"
    },
    "accelerator": "GPU",
    "gpuClass": "standard"
  },
  "nbformat": 4,
  "nbformat_minor": 0
}